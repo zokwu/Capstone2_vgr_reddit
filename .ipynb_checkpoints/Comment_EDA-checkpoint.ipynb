{
 "cells": [
  {
   "cell_type": "code",
   "execution_count": 57,
   "metadata": {},
   "outputs": [],
   "source": [
    "import pandas as pd\n",
    "import numpy as np\n",
    "from datetime import datetime as dt"
   ]
  },
  {
   "cell_type": "code",
   "execution_count": 6,
   "metadata": {},
   "outputs": [
    {
     "data": {
      "text/html": [
       "<div>\n",
       "<style scoped>\n",
       "    .dataframe tbody tr th:only-of-type {\n",
       "        vertical-align: middle;\n",
       "    }\n",
       "\n",
       "    .dataframe tbody tr th {\n",
       "        vertical-align: top;\n",
       "    }\n",
       "\n",
       "    .dataframe thead th {\n",
       "        text-align: right;\n",
       "    }\n",
       "</style>\n",
       "<table border=\"1\" class=\"dataframe\">\n",
       "  <thead>\n",
       "    <tr style=\"text-align: right;\">\n",
       "      <th></th>\n",
       "      <th>user</th>\n",
       "      <th>comment</th>\n",
       "      <th>subreddit</th>\n",
       "      <th>score</th>\n",
       "      <th>time</th>\n",
       "    </tr>\n",
       "  </thead>\n",
       "  <tbody>\n",
       "    <tr>\n",
       "      <th>0</th>\n",
       "      <td>Neotokyo199X</td>\n",
       "      <td>Nope.</td>\n",
       "      <td>GTAV</td>\n",
       "      <td>2</td>\n",
       "      <td>1.590249e+09</td>\n",
       "    </tr>\n",
       "    <tr>\n",
       "      <th>1</th>\n",
       "      <td>Neotokyo199X</td>\n",
       "      <td>That's because it is. Look at the gray pixels ...</td>\n",
       "      <td>apexlegends</td>\n",
       "      <td>3</td>\n",
       "      <td>1.589737e+09</td>\n",
       "    </tr>\n",
       "    <tr>\n",
       "      <th>2</th>\n",
       "      <td>Neotokyo199X</td>\n",
       "      <td>What the fuck is this</td>\n",
       "      <td>GTAV</td>\n",
       "      <td>2</td>\n",
       "      <td>1.589566e+09</td>\n",
       "    </tr>\n",
       "    <tr>\n",
       "      <th>3</th>\n",
       "      <td>Neotokyo199X</td>\n",
       "      <td>Except for driving games. Or really anything t...</td>\n",
       "      <td>apexlegends</td>\n",
       "      <td>2</td>\n",
       "      <td>1.589563e+09</td>\n",
       "    </tr>\n",
       "    <tr>\n",
       "      <th>4</th>\n",
       "      <td>Neotokyo199X</td>\n",
       "      <td>Another reason could be that the voice chat in...</td>\n",
       "      <td>apexlegends</td>\n",
       "      <td>2</td>\n",
       "      <td>1.589396e+09</td>\n",
       "    </tr>\n",
       "  </tbody>\n",
       "</table>\n",
       "</div>"
      ],
      "text/plain": [
       "           user                                            comment  \\\n",
       "0  Neotokyo199X                                              Nope.   \n",
       "1  Neotokyo199X  That's because it is. Look at the gray pixels ...   \n",
       "2  Neotokyo199X                              What the fuck is this   \n",
       "3  Neotokyo199X  Except for driving games. Or really anything t...   \n",
       "4  Neotokyo199X  Another reason could be that the voice chat in...   \n",
       "\n",
       "     subreddit  score          time  \n",
       "0         GTAV      2  1.590249e+09  \n",
       "1  apexlegends      3  1.589737e+09  \n",
       "2         GTAV      2  1.589566e+09  \n",
       "3  apexlegends      2  1.589563e+09  \n",
       "4  apexlegends      2  1.589396e+09  "
      ]
     },
     "execution_count": 6,
     "metadata": {},
     "output_type": "execute_result"
    }
   ],
   "source": [
    "df_comment = pd.read_csv('data\\df_comment.csv', index_col=0)\n",
    "df_comment.head()"
   ]
  },
  {
   "cell_type": "code",
   "execution_count": 7,
   "metadata": {},
   "outputs": [
    {
     "data": {
      "text/html": [
       "<div>\n",
       "<style scoped>\n",
       "    .dataframe tbody tr th:only-of-type {\n",
       "        vertical-align: middle;\n",
       "    }\n",
       "\n",
       "    .dataframe tbody tr th {\n",
       "        vertical-align: top;\n",
       "    }\n",
       "\n",
       "    .dataframe thead th {\n",
       "        text-align: right;\n",
       "    }\n",
       "</style>\n",
       "<table border=\"1\" class=\"dataframe\">\n",
       "  <thead>\n",
       "    <tr style=\"text-align: right;\">\n",
       "      <th></th>\n",
       "      <th>name</th>\n",
       "      <th>sub_name</th>\n",
       "      <th>sub_pub_desc</th>\n",
       "      <th>subscribers</th>\n",
       "    </tr>\n",
       "  </thead>\n",
       "  <tbody>\n",
       "    <tr>\n",
       "      <th>0</th>\n",
       "      <td>Grand Theft Auto V</td>\n",
       "      <td>GTAV</td>\n",
       "      <td>Grand Theft Auto V, also known as GTA 5 or GTA...</td>\n",
       "      <td>256651.0</td>\n",
       "    </tr>\n",
       "    <tr>\n",
       "      <th>1</th>\n",
       "      <td>Portal 2</td>\n",
       "      <td>Portal</td>\n",
       "      <td>Welcome to Aperture Laboratories. The subreddi...</td>\n",
       "      <td>77681.0</td>\n",
       "    </tr>\n",
       "    <tr>\n",
       "      <th>2</th>\n",
       "      <td>The Witcher 3: Wild Hunt</td>\n",
       "      <td>thewitcher3</td>\n",
       "      <td>For everything Witcher related.</td>\n",
       "      <td>67841.0</td>\n",
       "    </tr>\n",
       "    <tr>\n",
       "      <th>3</th>\n",
       "      <td>The Elder Scrolls V: Skyrim</td>\n",
       "      <td>skyrim</td>\n",
       "      <td>NaN</td>\n",
       "      <td>891740.0</td>\n",
       "    </tr>\n",
       "    <tr>\n",
       "      <th>4</th>\n",
       "      <td>Tomb Raider (2013)</td>\n",
       "      <td>TombRaider</td>\n",
       "      <td>A subreddit for people interested in Lara Crof...</td>\n",
       "      <td>30280.0</td>\n",
       "    </tr>\n",
       "    <tr>\n",
       "      <th>...</th>\n",
       "      <td>...</td>\n",
       "      <td>...</td>\n",
       "      <td>...</td>\n",
       "      <td>...</td>\n",
       "    </tr>\n",
       "    <tr>\n",
       "      <th>227</th>\n",
       "      <td>Forza Horizon 2</td>\n",
       "      <td>ForzaHorizon</td>\n",
       "      <td>A place to share, discuss and celebrate everyt...</td>\n",
       "      <td>60668.0</td>\n",
       "    </tr>\n",
       "    <tr>\n",
       "      <th>228</th>\n",
       "      <td>The Lord of the Rings Online</td>\n",
       "      <td>lotro</td>\n",
       "      <td>Dedicated to The Lord of the Rings Online, the...</td>\n",
       "      <td>31053.0</td>\n",
       "    </tr>\n",
       "    <tr>\n",
       "      <th>229</th>\n",
       "      <td>FINAL FANTASY VIII</td>\n",
       "      <td>FinalFantasy</td>\n",
       "      <td>Subreddit for all things Final Fantasy!</td>\n",
       "      <td>215827.0</td>\n",
       "    </tr>\n",
       "    <tr>\n",
       "      <th>230</th>\n",
       "      <td>Persona 4 Golden</td>\n",
       "      <td>persona4golden</td>\n",
       "      <td>Persona 4 Golden, the best Vita game ever!\\n\\n...</td>\n",
       "      <td>11365.0</td>\n",
       "    </tr>\n",
       "    <tr>\n",
       "      <th>231</th>\n",
       "      <td>Iconoclasts</td>\n",
       "      <td>NaN</td>\n",
       "      <td>NaN</td>\n",
       "      <td>NaN</td>\n",
       "    </tr>\n",
       "  </tbody>\n",
       "</table>\n",
       "<p>232 rows × 4 columns</p>\n",
       "</div>"
      ],
      "text/plain": [
       "                             name        sub_name  \\\n",
       "0              Grand Theft Auto V            GTAV   \n",
       "1                        Portal 2          Portal   \n",
       "2        The Witcher 3: Wild Hunt     thewitcher3   \n",
       "3     The Elder Scrolls V: Skyrim          skyrim   \n",
       "4              Tomb Raider (2013)      TombRaider   \n",
       "..                            ...             ...   \n",
       "227               Forza Horizon 2    ForzaHorizon   \n",
       "228  The Lord of the Rings Online           lotro   \n",
       "229            FINAL FANTASY VIII    FinalFantasy   \n",
       "230              Persona 4 Golden  persona4golden   \n",
       "231                   Iconoclasts             NaN   \n",
       "\n",
       "                                          sub_pub_desc  subscribers  \n",
       "0    Grand Theft Auto V, also known as GTA 5 or GTA...     256651.0  \n",
       "1    Welcome to Aperture Laboratories. The subreddi...      77681.0  \n",
       "2                      For everything Witcher related.      67841.0  \n",
       "3                                                  NaN     891740.0  \n",
       "4    A subreddit for people interested in Lara Crof...      30280.0  \n",
       "..                                                 ...          ...  \n",
       "227  A place to share, discuss and celebrate everyt...      60668.0  \n",
       "228  Dedicated to The Lord of the Rings Online, the...      31053.0  \n",
       "229            Subreddit for all things Final Fantasy!     215827.0  \n",
       "230  Persona 4 Golden, the best Vita game ever!\\n\\n...      11365.0  \n",
       "231                                                NaN          NaN  \n",
       "\n",
       "[232 rows x 4 columns]"
      ]
     },
     "execution_count": 7,
     "metadata": {},
     "output_type": "execute_result"
    }
   ],
   "source": [
    "df_sub = pd.read_csv('data\\df_sub.csv', index_col=0)\n",
    "df_sub"
   ]
  },
  {
   "cell_type": "code",
   "execution_count": 5,
   "metadata": {},
   "outputs": [
    {
     "data": {
      "text/html": [
       "<div>\n",
       "<style scoped>\n",
       "    .dataframe tbody tr th:only-of-type {\n",
       "        vertical-align: middle;\n",
       "    }\n",
       "\n",
       "    .dataframe tbody tr th {\n",
       "        vertical-align: top;\n",
       "    }\n",
       "\n",
       "    .dataframe thead th {\n",
       "        text-align: right;\n",
       "    }\n",
       "</style>\n",
       "<table border=\"1\" class=\"dataframe\">\n",
       "  <thead>\n",
       "    <tr style=\"text-align: right;\">\n",
       "      <th></th>\n",
       "      <th>name</th>\n",
       "      <th>released</th>\n",
       "      <th>parent_platforms</th>\n",
       "      <th>platforms</th>\n",
       "      <th>added</th>\n",
       "      <th>added_by_status</th>\n",
       "      <th>genres</th>\n",
       "      <th>metacritic</th>\n",
       "      <th>slug</th>\n",
       "      <th>stores</th>\n",
       "      <th>tags</th>\n",
       "    </tr>\n",
       "  </thead>\n",
       "  <tbody>\n",
       "    <tr>\n",
       "      <th>0</th>\n",
       "      <td>Grand Theft Auto V</td>\n",
       "      <td>2013-09-17</td>\n",
       "      <td>[{'platform': {'id': 1, 'name': 'PC', 'slug': ...</td>\n",
       "      <td>[{'platform': {'id': 4, 'name': 'PC', 'slug': ...</td>\n",
       "      <td>11725</td>\n",
       "      <td>{'yet': 246, 'owned': 7345, 'beaten': 2902, 't...</td>\n",
       "      <td>[{'id': 4, 'name': 'Action', 'slug': 'action',...</td>\n",
       "      <td>97</td>\n",
       "      <td>grand-theft-auto-v</td>\n",
       "      <td>[{'id': 290375, 'store': {'id': 3, 'name': 'Pl...</td>\n",
       "      <td>[{'id': 40836, 'name': 'Full controller suppor...</td>\n",
       "    </tr>\n",
       "    <tr>\n",
       "      <th>1</th>\n",
       "      <td>Portal 2</td>\n",
       "      <td>2011-04-19</td>\n",
       "      <td>[{'platform': {'id': 1, 'name': 'PC', 'slug': ...</td>\n",
       "      <td>[{'platform': {'id': 16, 'name': 'PlayStation ...</td>\n",
       "      <td>10341</td>\n",
       "      <td>{'yet': 312, 'owned': 6658, 'beaten': 2850, 't...</td>\n",
       "      <td>[{'id': 2, 'name': 'Shooter', 'slug': 'shooter...</td>\n",
       "      <td>95</td>\n",
       "      <td>portal-2</td>\n",
       "      <td>[{'id': 33916, 'store': {'id': 7, 'name': 'Xbo...</td>\n",
       "      <td>[{'id': 40833, 'name': 'Captions available', '...</td>\n",
       "    </tr>\n",
       "    <tr>\n",
       "      <th>2</th>\n",
       "      <td>The Witcher 3: Wild Hunt</td>\n",
       "      <td>2015-05-18</td>\n",
       "      <td>[{'platform': {'id': 1, 'name': 'PC', 'slug': ...</td>\n",
       "      <td>[{'platform': {'id': 4, 'name': 'PC', 'slug': ...</td>\n",
       "      <td>9982</td>\n",
       "      <td>{'yet': 513, 'owned': 5844, 'beaten': 2246, 't...</td>\n",
       "      <td>[{'id': 4, 'name': 'Action', 'slug': 'action',...</td>\n",
       "      <td>93</td>\n",
       "      <td>the-witcher-3-wild-hunt</td>\n",
       "      <td>[{'id': 354780, 'store': {'id': 5, 'name': 'GO...</td>\n",
       "      <td>[{'id': 40836, 'name': 'Full controller suppor...</td>\n",
       "    </tr>\n",
       "    <tr>\n",
       "      <th>3</th>\n",
       "      <td>The Elder Scrolls V: Skyrim</td>\n",
       "      <td>2011-11-11</td>\n",
       "      <td>[{'platform': {'id': 1, 'name': 'PC', 'slug': ...</td>\n",
       "      <td>[{'platform': {'id': 4, 'name': 'PC', 'slug': ...</td>\n",
       "      <td>9252</td>\n",
       "      <td>{'yet': 240, 'owned': 6019, 'beaten': 1907, 't...</td>\n",
       "      <td>[{'id': 4, 'name': 'Action', 'slug': 'action',...</td>\n",
       "      <td>94</td>\n",
       "      <td>the-elder-scrolls-v-skyrim</td>\n",
       "      <td>[{'id': 49792, 'store': {'id': 7, 'name': 'Xbo...</td>\n",
       "      <td>[{'id': 97, 'name': 'Action RPG', 'slug': 'act...</td>\n",
       "    </tr>\n",
       "    <tr>\n",
       "      <th>4</th>\n",
       "      <td>Tomb Raider (2013)</td>\n",
       "      <td>2013-03-05</td>\n",
       "      <td>[{'platform': {'id': 1, 'name': 'PC', 'slug': ...</td>\n",
       "      <td>[{'platform': {'id': 18, 'name': 'PlayStation ...</td>\n",
       "      <td>9201</td>\n",
       "      <td>{'yet': 263, 'owned': 6362, 'beaten': 2164, 't...</td>\n",
       "      <td>[{'id': 4, 'name': 'Action', 'slug': 'action',...</td>\n",
       "      <td>86</td>\n",
       "      <td>tomb-raider</td>\n",
       "      <td>[{'id': 79036, 'store': {'id': 4, 'name': 'App...</td>\n",
       "      <td>[{'id': 40836, 'name': 'Full controller suppor...</td>\n",
       "    </tr>\n",
       "  </tbody>\n",
       "</table>\n",
       "</div>"
      ],
      "text/plain": [
       "                          name    released  \\\n",
       "0           Grand Theft Auto V  2013-09-17   \n",
       "1                     Portal 2  2011-04-19   \n",
       "2     The Witcher 3: Wild Hunt  2015-05-18   \n",
       "3  The Elder Scrolls V: Skyrim  2011-11-11   \n",
       "4           Tomb Raider (2013)  2013-03-05   \n",
       "\n",
       "                                    parent_platforms  \\\n",
       "0  [{'platform': {'id': 1, 'name': 'PC', 'slug': ...   \n",
       "1  [{'platform': {'id': 1, 'name': 'PC', 'slug': ...   \n",
       "2  [{'platform': {'id': 1, 'name': 'PC', 'slug': ...   \n",
       "3  [{'platform': {'id': 1, 'name': 'PC', 'slug': ...   \n",
       "4  [{'platform': {'id': 1, 'name': 'PC', 'slug': ...   \n",
       "\n",
       "                                           platforms  added  \\\n",
       "0  [{'platform': {'id': 4, 'name': 'PC', 'slug': ...  11725   \n",
       "1  [{'platform': {'id': 16, 'name': 'PlayStation ...  10341   \n",
       "2  [{'platform': {'id': 4, 'name': 'PC', 'slug': ...   9982   \n",
       "3  [{'platform': {'id': 4, 'name': 'PC', 'slug': ...   9252   \n",
       "4  [{'platform': {'id': 18, 'name': 'PlayStation ...   9201   \n",
       "\n",
       "                                     added_by_status  \\\n",
       "0  {'yet': 246, 'owned': 7345, 'beaten': 2902, 't...   \n",
       "1  {'yet': 312, 'owned': 6658, 'beaten': 2850, 't...   \n",
       "2  {'yet': 513, 'owned': 5844, 'beaten': 2246, 't...   \n",
       "3  {'yet': 240, 'owned': 6019, 'beaten': 1907, 't...   \n",
       "4  {'yet': 263, 'owned': 6362, 'beaten': 2164, 't...   \n",
       "\n",
       "                                              genres  metacritic  \\\n",
       "0  [{'id': 4, 'name': 'Action', 'slug': 'action',...          97   \n",
       "1  [{'id': 2, 'name': 'Shooter', 'slug': 'shooter...          95   \n",
       "2  [{'id': 4, 'name': 'Action', 'slug': 'action',...          93   \n",
       "3  [{'id': 4, 'name': 'Action', 'slug': 'action',...          94   \n",
       "4  [{'id': 4, 'name': 'Action', 'slug': 'action',...          86   \n",
       "\n",
       "                         slug  \\\n",
       "0          grand-theft-auto-v   \n",
       "1                    portal-2   \n",
       "2     the-witcher-3-wild-hunt   \n",
       "3  the-elder-scrolls-v-skyrim   \n",
       "4                 tomb-raider   \n",
       "\n",
       "                                              stores  \\\n",
       "0  [{'id': 290375, 'store': {'id': 3, 'name': 'Pl...   \n",
       "1  [{'id': 33916, 'store': {'id': 7, 'name': 'Xbo...   \n",
       "2  [{'id': 354780, 'store': {'id': 5, 'name': 'GO...   \n",
       "3  [{'id': 49792, 'store': {'id': 7, 'name': 'Xbo...   \n",
       "4  [{'id': 79036, 'store': {'id': 4, 'name': 'App...   \n",
       "\n",
       "                                                tags  \n",
       "0  [{'id': 40836, 'name': 'Full controller suppor...  \n",
       "1  [{'id': 40833, 'name': 'Captions available', '...  \n",
       "2  [{'id': 40836, 'name': 'Full controller suppor...  \n",
       "3  [{'id': 97, 'name': 'Action RPG', 'slug': 'act...  \n",
       "4  [{'id': 40836, 'name': 'Full controller suppor...  "
      ]
     },
     "execution_count": 5,
     "metadata": {},
     "output_type": "execute_result"
    }
   ],
   "source": [
    "df_game = pd.read_json('data\\Game_1000_85.json')\n",
    "df_game.head()"
   ]
  },
  {
   "cell_type": "code",
   "execution_count": 8,
   "metadata": {},
   "outputs": [
    {
     "data": {
      "text/plain": [
       "(3731, 131)"
      ]
     },
     "execution_count": 8,
     "metadata": {},
     "output_type": "execute_result"
    }
   ],
   "source": [
    "len(df_comment.user.unique()), len(df_comment.subreddit.unique())"
   ]
  },
  {
   "cell_type": "code",
   "execution_count": 16,
   "metadata": {},
   "outputs": [],
   "source": [
    "df_user = pd.DataFrame(df_comment.groupby(['user', 'subreddit']).comment.count())"
   ]
  },
  {
   "cell_type": "code",
   "execution_count": 29,
   "metadata": {},
   "outputs": [
    {
     "data": {
      "text/plain": [
       "user\n",
       "BlogSpammr            87\n",
       "EncouragementRobot    71\n",
       "agree-with-you        65\n",
       "YoMommaJokeBot        64\n",
       "RemindMeBot           61\n",
       "Mentioned_Videos      52\n",
       "auto-xkcd37           50\n",
       "fatFingersbot         49\n",
       "RepostSleuthBot       44\n",
       "JoshZroWendt          38\n",
       "nice-scores           37\n",
       "RAD_or_shite          37\n",
       "mmotte89              29\n",
       "gyshall               28\n",
       "Forever_Awkward       27\n",
       "BatPixi               26\n",
       "TheRileyss            26\n",
       "Schwaggaccino         25\n",
       "tobiasvl              24\n",
       "namapo                24\n",
       "Name: subreddit, dtype: int64"
      ]
     },
     "execution_count": 29,
     "metadata": {},
     "output_type": "execute_result"
    }
   ],
   "source": [
    "df_user.reset_index(level=1).groupby('user').subreddit.count().sort_values(ascending=False)[:20]"
   ]
  },
  {
   "cell_type": "code",
   "execution_count": 34,
   "metadata": {},
   "outputs": [],
   "source": [
    "user_list = df_user.reset_index(level=1).groupby('user').subreddit.count().sort_values(ascending=False).index[11:]"
   ]
  },
  {
   "cell_type": "code",
   "execution_count": 39,
   "metadata": {},
   "outputs": [],
   "source": [
    "df_comment = df_comment[[user in user_list for user in df_comment.user]]"
   ]
  },
  {
   "cell_type": "code",
   "execution_count": 46,
   "metadata": {},
   "outputs": [
    {
     "data": {
      "text/plain": [
       "(3720, 131)"
      ]
     },
     "execution_count": 46,
     "metadata": {},
     "output_type": "execute_result"
    }
   ],
   "source": [
    "len(df_comment.user.unique()), len(df_comment.subreddit.unique())"
   ]
  },
  {
   "cell_type": "code",
   "execution_count": 51,
   "metadata": {},
   "outputs": [],
   "source": [
    "df_comment = df_comment[df_comment.comment != '[deleted]']\n",
    "df_comment = df_comment[df_comment.comment.notnull()]"
   ]
  },
  {
   "cell_type": "code",
   "execution_count": 52,
   "metadata": {},
   "outputs": [
    {
     "data": {
      "text/plain": [
       "((696060, 5), 3720, 131)"
      ]
     },
     "execution_count": 52,
     "metadata": {},
     "output_type": "execute_result"
    }
   ],
   "source": [
    "df_comment.shape, len(df_comment.user.unique()), len(df_comment.subreddit.unique())"
   ]
  },
  {
   "cell_type": "code",
   "execution_count": 53,
   "metadata": {},
   "outputs": [
    {
     "name": "stdout",
     "output_type": "stream",
     "text": [
      "<class 'pandas.core.frame.DataFrame'>\n",
      "Int64Index: 696060 entries, 0 to 6532\n",
      "Data columns (total 5 columns):\n",
      " #   Column     Non-Null Count   Dtype  \n",
      "---  ------     --------------   -----  \n",
      " 0   user       696060 non-null  object \n",
      " 1   comment    696060 non-null  object \n",
      " 2   subreddit  696060 non-null  object \n",
      " 3   score      696060 non-null  int64  \n",
      " 4   time       696060 non-null  float64\n",
      "dtypes: float64(1), int64(1), object(3)\n",
      "memory usage: 31.9+ MB\n"
     ]
    }
   ],
   "source": [
    "df_comment.info()"
   ]
  },
  {
   "cell_type": "code",
   "execution_count": 60,
   "metadata": {},
   "outputs": [],
   "source": [
    "def convert_time(df, column):\n",
    "    col_lst = [dt.fromtimestamp(i) for i in df[column]]\n",
    "    df[column+'_new'] = pd.Series(col_lst)"
   ]
  },
  {
   "cell_type": "code",
   "execution_count": 61,
   "metadata": {},
   "outputs": [],
   "source": [
    "convert_time(df_comment, 'time')"
   ]
  },
  {
   "cell_type": "code",
   "execution_count": 63,
   "metadata": {},
   "outputs": [
    {
     "data": {
      "text/plain": [
       "<matplotlib.axes._subplots.AxesSubplot at 0x1894b236a90>"
      ]
     },
     "execution_count": 63,
     "metadata": {},
     "output_type": "execute_result"
    },
    {
     "data": {
      "image/png": "[encoded data removed]",
      "text/plain": [
       "<Figure size 432x288 with 1 Axes>"
      ]
     },
     "metadata": {
      "needs_background": "light"
     },
     "output_type": "display_data"
    }
   ],
   "source": [
    "df_comment.time_new.hist()"
   ]
  },
  {
   "cell_type": "code",
   "execution_count": 65,
   "metadata": {},
   "outputs": [],
   "source": [
    "df_comment['time'] = df_comment['time_new']\n",
    "df_comment[['user', 'comment', 'subreddit', 'score', 'time']].to_csv('data\\df_comment_cleaned.csv')"
   ]
  },
  {
   "cell_type": "code",
   "execution_count": 78,
   "metadata": {},
   "outputs": [
    {
     "data": {
      "text/plain": [
       "1460"
      ]
     },
     "execution_count": 78,
     "metadata": {},
     "output_type": "execute_result"
    }
   ],
   "source": [
    "df_user2 = pd.DataFrame(df_comment.groupby(['user', 'subreddit']).comment.count())\n",
    "df_user_sub = df_user2.reset_index(1).groupby('user').subreddit.count()\n",
    "len(df_user_sub[df_user_sub >= 6])"
   ]
  },
  {
   "cell_type": "markdown",
   "metadata": {},
   "source": [
    "Comparison:\n",
    "WARP or BPR\n",
    "Data information\n",
    "1. Only comment number\n",
    "2. Comment number with text\n",
    "3. Comment number with game metadata\n",
    "4. Comment number, text, game metadata"
   ]
  },
  {
   "cell_type": "markdown",
   "metadata": {},
   "source": [
    "$$L = \\sum\\limits_{u,i}(r_{ui} - (\\mu + b_{u} + b_{i} + \\textbf{x}_{u}^{\\intercal} \\cdot{} \\textbf{y}_{i}))^{2} + \\lambda_{xb} \\sum\\limits_{u} \\left\\Vert b_{u} \\right\\Vert^{2} + \\lambda_{yb} \\sum\\limits_{i} \\left\\Vert b_{i} \\right\\Vert^{2} + \\lambda_{xf} \\sum\\limits_{u} \\left\\Vert \\textbf{x}_{u} \\right\\Vert^{2} + \\lambda_{yf} \\sum\\limits_{u} \\left\\Vert \\textbf{y}_{i} \\right\\Vert^{2}$$"
   ]
  }
 ],
 "metadata": {
  "kernelspec": {
   "display_name": "Python [conda env:vgr] *",
   "language": "python",
   "name": "conda-env-vgr-py"
  },
  "language_info": {
   "codemirror_mode": {
    "name": "ipython",
    "version": 3
   },
   "file_extension": ".py",
   "mimetype": "text/x-python",
   "name": "python",
   "nbconvert_exporter": "python",
   "pygments_lexer": "ipython3",
   "version": "3.8.2"
  }
 },
 "nbformat": 4,
 "nbformat_minor": 4
}
